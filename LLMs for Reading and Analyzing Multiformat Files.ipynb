{
 "cells": [
  {
   "cell_type": "markdown",
   "metadata": {},
   "source": [
    "# LLM (Large Language Model) yang mampu membaca dan menganalisis isi konten dari berbagai format file"
   ]
  },
  {
   "cell_type": "markdown",
   "metadata": {},
   "source": [
    "Dalam kasus ini bertujuan membangun sistem berbasis llm yaitu\n",
    "1. Memahami konten teks dari file\n",
    "2. menjawab berdasarkan konten file dengan pemanfaatan RAG"
   ]
  },
  {
   "cell_type": "code",
   "execution_count": 2,
   "metadata": {},
   "outputs": [],
   "source": [
    "!pip install langchain langchain-community faiss-cpu pdfplumber sentence-transformers tqdm langchainhub chromadb langchain-ollama -q\n"
   ]
  },
  {
   "cell_type": "markdown",
   "metadata": {},
   "source": [
    "## ekstraksi teks file "
   ]
  },
  {
   "cell_type": "code",
   "execution_count": 44,
   "metadata": {},
   "outputs": [
    {
     "name": "stdout",
     "output_type": "stream",
     "text": [
      "PT. KARYA ABADI\n",
      "Perusahaan Properti dan Real Estate\n",
      "Jl. Danau Seberang No. 123, Bogor\n",
      "Telp. (0251) 232323 | Fax. (0251) 898989\n",
      "Email: marketing@karyaabadi.co.id\n",
      "NPWP: 01.422.1.344.111\n",
      "Bogor, 12 Januari 2018\n",
      "Nomor : PKA/021/AB-12Y/PP/I/2018\n",
      "Lampiran : 3 (tiga) rangkap\n",
      "Perihal : Penawaran barang\n",
      "Kepada Yth.\n",
      "Direktur Utama\n",
      "PT. Dinamika Surya\n",
      "Di tempat.\n",
      "Dengan Hormat,\n",
      "Bersama surat ini, kami PT. Karya Abadi sebagai perusahaan yang bergerak di bidang\n",
      "properti dan real estate mengucapkan terima kasih atas kesempatan yang Anda\n",
      "berikan untuk kami dalam memperkenalkan produk unggulan perusahaan.\n",
      "PT. Karya Abadi merupakan perusahaan penyedia properti dan real estate yang sudah\n",
      "berkembang sejak tahun 2010. Kami telah banyak bekerja sama dengan berbagai\n",
      "kalangan masyarakat dalam memberikan produk berupa tanah dan bangunan yang\n",
      "berkualitas tinggi dan menjanjikan. Kami yakin bahwa produk kami juga dapat\n",
      "memenuhi dan menunjang kebutuhan PT. Dinamika Surya.\n",
      "Sehubungan dengan hal itu, kami menawarkan s\n"
     ]
    }
   ],
   "source": [
    "import pdfplumber\n",
    "\n",
    "def extract_text_doc(file):\n",
    "    with pdfplumber.open(file) as pdf:\n",
    "        return \"\\n\".join([page.extract_text() for page in pdf.pages if page.extract_text()])\n",
    "\n",
    "pdf_text_ext = extract_text_doc(\"Contoh-Surat-Penawaran-PDF.pdf\")\n",
    "print(pdf_text_ext[:1000])\n"
   ]
  },
  {
   "cell_type": "markdown",
   "metadata": {},
   "source": [
    "## Split teks menjadi chunk"
   ]
  },
  {
   "cell_type": "code",
   "execution_count": 45,
   "metadata": {},
   "outputs": [
    {
     "name": "stdout",
     "output_type": "stream",
     "text": [
      "total potongan : 5\n"
     ]
    }
   ],
   "source": [
    "from langchain.text_splitter import RecursiveCharacterTextSplitter\n",
    "split_text = RecursiveCharacterTextSplitter(chunk_size=500, chunk_overlap=50)\n",
    "dokument = split_text.create_documents([pdf_text_ext])\n",
    "print(f\"total potongan : {len(dokument)}\")\n"
   ]
  },
  {
   "cell_type": "code",
   "execution_count": 46,
   "metadata": {},
   "outputs": [
    {
     "data": {
      "text/plain": [
       "[Document(metadata={}, page_content='PT. KARYA ABADI\\nPerusahaan Properti dan Real Estate\\nJl. Danau Seberang No. 123, Bogor\\nTelp. (0251) 232323 | Fax. (0251) 898989\\nEmail: marketing@karyaabadi.co.id\\nNPWP: 01.422.1.344.111\\nBogor, 12 Januari 2018\\nNomor : PKA/021/AB-12Y/PP/I/2018\\nLampiran : 3 (tiga) rangkap\\nPerihal : Penawaran barang\\nKepada Yth.\\nDirektur Utama\\nPT. Dinamika Surya\\nDi tempat.\\nDengan Hormat,\\nBersama surat ini, kami PT. Karya Abadi sebagai perusahaan yang bergerak di bidang'),\n",
       " Document(metadata={}, page_content='properti dan real estate mengucapkan terima kasih atas kesempatan yang Anda\\nberikan untuk kami dalam memperkenalkan produk unggulan perusahaan.\\nPT. Karya Abadi merupakan perusahaan penyedia properti dan real estate yang sudah\\nberkembang sejak tahun 2010. Kami telah banyak bekerja sama dengan berbagai\\nkalangan masyarakat dalam memberikan produk berupa tanah dan bangunan yang\\nberkualitas tinggi dan menjanjikan. Kami yakin bahwa produk kami juga dapat'),\n",
       " Document(metadata={}, page_content='memenuhi dan menunjang kebutuhan PT. Dinamika Surya.\\nSehubungan dengan hal itu, kami menawarkan salah satu produk unggulan kami, yaitu:\\nGolden Hills Residence — Bogor\\nLuas bangunan : 100 m2, 200 m2, 300 m2, dan 400 m2\\nLuas tanah : 200 m2, 300 m2. 400 m2, dan 500 m2\\nSertifikat : SHM\\nSpesifikasi bangunan : Terlampir\\nTotal unit : 10 unit\\nKetersediaan unit : 8 unit\\nLokasi : Jl. Raya Timur No. 10, Bogor\\nFasilitas & Akses:\\n- Rumah Sakit (RSIB Kilauan Bunda)'),\n",
       " Document(metadata={}, page_content='- Rumah Sakit (RSIB Kilauan Bunda)\\n- Sekolah (Guardian International School, Good Day Preschool, SMA Bela\\nNegara)\\n- Kampus (Institut Seni Budaya)\\n- Mall (Orchid City Plaza)\\n- Minimarket (Indoapril, Deltamart)\\nHarga:\\n- Rp 3.499.999.999,- (Bronze)\\n- Rp 5.899.999.999,- (Silver)\\n- Rp.7.299.999.999,- (Gold)\\n- Rp 10.499.999.999,- (Platinum)\\nMetode Pembayaran:\\n- Cash keras\\n- Cash bertahap\\n- KPR bank\\nGolden Hills Residence merupakan perumahan eksklusif pertama di Bogor dengan view'),\n",
       " Document(metadata={}, page_content='perbukitan yang indah. Jika Anda tertarik untuk mengetahui lebih jauh tentang produk\\nyang kami tawarkan, mohon hubungi langsung nomor telepon (0251) 232323.\\nDemikian surat penawaran ini kami sampaikan. Besar harapan kami untuk bisa\\nmenjalin kerja sama dengan Anda. Atas perhatiannya, kami ucapkan terima kasih.\\nHormat kami,\\nAngela Lee\\nManajer Pemasaran\\nPT. Karya Abadi')]"
      ]
     },
     "execution_count": 46,
     "metadata": {},
     "output_type": "execute_result"
    }
   ],
   "source": [
    "dokument"
   ]
  },
  {
   "cell_type": "markdown",
   "metadata": {},
   "source": [
    "## membuat vector embedding dan faiss index"
   ]
  },
  {
   "cell_type": "code",
   "execution_count": 47,
   "metadata": {},
   "outputs": [],
   "source": [
    "from langchain.embeddings import HuggingFaceEmbeddings\n",
    "from langchain_community.vectorstores import FAISS\n",
    "\n",
    "embed_text = HuggingFaceEmbeddings(model_name=\"sentence-transformers/all-MiniLM-L6-v2\")\n",
    "vector_text = FAISS.from_documents(dokument, embed_text)\n"
   ]
  },
  {
   "cell_type": "code",
   "execution_count": 30,
   "metadata": {},
   "outputs": [
    {
     "data": {
      "text/plain": [
       "HuggingFaceEmbeddings(client=SentenceTransformer(\n",
       "  (0): Transformer({'max_seq_length': 256, 'do_lower_case': False, 'architecture': 'BertModel'})\n",
       "  (1): Pooling({'word_embedding_dimension': 384, 'pooling_mode_cls_token': False, 'pooling_mode_mean_tokens': True, 'pooling_mode_max_tokens': False, 'pooling_mode_mean_sqrt_len_tokens': False, 'pooling_mode_weightedmean_tokens': False, 'pooling_mode_lasttoken': False, 'include_prompt': True})\n",
       "  (2): Normalize()\n",
       "), model_name='sentence-transformers/all-MiniLM-L6-v2', cache_folder=None, model_kwargs={}, encode_kwargs={}, multi_process=False, show_progress=False)"
      ]
     },
     "execution_count": 30,
     "metadata": {},
     "output_type": "execute_result"
    }
   ],
   "source": [
    "embed_text "
   ]
  },
  {
   "cell_type": "code",
   "execution_count": 14,
   "metadata": {},
   "outputs": [
    {
     "data": {
      "text/plain": [
       "<langchain_community.vectorstores.faiss.FAISS at 0x16a16df5d60>"
      ]
     },
     "execution_count": 14,
     "metadata": {},
     "output_type": "execute_result"
    }
   ],
   "source": [
    "vector_text"
   ]
  },
  {
   "cell_type": "markdown",
   "metadata": {},
   "source": [
    "## menggunakan model ollama"
   ]
  },
  {
   "cell_type": "code",
   "execution_count": 31,
   "metadata": {},
   "outputs": [],
   "source": [
    "from langchain_community.chat_models import ChatOllama\n",
    "llm_model= ChatOllama(\n",
    "    base_url=\"http://localhost:11434\",\n",
    "    model=\"llama3\",\n",
    "    temperature=0.1\n",
    ")\n"
   ]
  },
  {
   "cell_type": "markdown",
   "metadata": {},
   "source": [
    "## membuat pipeline Question Answering (QA)"
   ]
  },
  {
   "cell_type": "code",
   "execution_count": 36,
   "metadata": {},
   "outputs": [],
   "source": [
    "from langchain.chains import RetrievalQA\n",
    "qa_chain = RetrievalQA.from_chain_type(\n",
    "    llm=llm_model,\n",
    "    retriever=vector_text.as_retriever(search_kwargs={\"k\": 3}),\n",
    "    return_source_documents=True\n",
    ")\n"
   ]
  },
  {
   "cell_type": "markdown",
   "metadata": {},
   "source": [
    "1. as_retriever: mengubah vector menjadi retriever\n",
    "2. search_kwargs={\"k\": 3}: menampilkan top 3 dokument yang paling cocok dengan pertanyaan user\n"
   ]
  },
  {
   "cell_type": "code",
   "execution_count": 37,
   "metadata": {},
   "outputs": [
    {
     "name": "stdout",
     "output_type": "stream",
     "text": [
      "Jawaban:\n",
      "\n",
      "Pengirim surat ini adalah PT. Karya Abadi, sebuah perusahaan penyedia properti dan real estate. Isi utama surat ini adalah penawaran produk unggulan mereka, yaitu Golden Hills Residence di Bogor, yang terdiri dari berbagai unit dengan luas bangunan dan tanah yang berbeda-beda.\n"
     ]
    }
   ],
   "source": [
    "pertanyaan = \"Siapa pengirim surat ini dan apa isi utamanya?\"\n",
    "hasil = qa_chain.invoke({\"query\": pertanyaan})\n",
    "\n",
    "print(\"Jawaban:\\n\")\n",
    "print(hasil['result'])\n"
   ]
  },
  {
   "cell_type": "code",
   "execution_count": 41,
   "metadata": {},
   "outputs": [
    {
     "name": "stdout",
     "output_type": "stream",
     "text": [
      "Jawaban:\n",
      "\n",
      "Tujuan surat ini adalah untuk menawarkan produk unggulan PT. Karya Abadi, yaitu Golden Hills Residence — Bogor, kepada Direktur Utama PT. Dinamika Surya dan memenuhi kebutuhan perusahaan tersebut.\n"
     ]
    }
   ],
   "source": [
    "pertanyaan = \"Apa tujuan surat ini?\"\n",
    "hasil = qa_chain.invoke({\"query\": pertanyaan})\n",
    "\n",
    "print(\"Jawaban:\\n\")\n",
    "print(hasil['result'])"
   ]
  },
  {
   "cell_type": "code",
   "execution_count": 48,
   "metadata": {},
   "outputs": [
    {
     "name": "stdout",
     "output_type": "stream",
     "text": [
      "Jawaban:\n",
      "\n",
      "Based on the context, it appears that PT. Karya Abadi is offering a property product called \"Golden Hills Residence — Bogor\". The criteria of this product are:\n",
      "\n",
      "* Types of buildings: 100 m2, 200 m2, 300 m2, and 400 m2\n",
      "* Land sizes: 200 m2, 300 m2, 400 m2, and 500 m2\n",
      "* Certificate: SHM (Sertifikat Hak Milik)\n",
      "* Building specifications: attached document\n",
      "* Total units: 10 units\n",
      "* Availability of units: 8 units\n",
      "* Location: Jl. Raya Timur No. 10, Bogor\n",
      "\n",
      "The product seems to be a residential property development in Bogor, with various sizes and amenities.\n"
     ]
    }
   ],
   "source": [
    "pertanyaan = \"penawarannya apa dan kriteria produknya apa\"\n",
    "hasil = qa_chain.invoke({\"query\": pertanyaan})\n",
    "\n",
    "print(\"Jawaban:\\n\")\n",
    "print(hasil['result'])"
   ]
  }
 ],
 "metadata": {
  "kernelspec": {
   "display_name": "base",
   "language": "python",
   "name": "python3"
  },
  "language_info": {
   "codemirror_mode": {
    "name": "ipython",
    "version": 3
   },
   "file_extension": ".py",
   "mimetype": "text/x-python",
   "name": "python",
   "nbconvert_exporter": "python",
   "pygments_lexer": "ipython3",
   "version": "3.12.3"
  }
 },
 "nbformat": 4,
 "nbformat_minor": 2
}
